{
  "nbformat": 4,
  "nbformat_minor": 0,
  "metadata": {
    "colab": {
      "name": "MLProject_updated.ipynb",
      "provenance": [],
      "toc_visible": true,
      "machine_shape": "hm",
      "include_colab_link": true
    },
    "kernelspec": {
      "name": "python3",
      "display_name": "Python 3"
    }
  },
  "cells": [
    {
      "cell_type": "markdown",
      "metadata": {
        "id": "view-in-github",
        "colab_type": "text"
      },
      "source": [
        "<a href=\"https://colab.research.google.com/github/masfour7/introml/blob/master/MLProject_updated.ipynb\" target=\"_parent\"><img src=\"https://colab.research.google.com/assets/colab-badge.svg\" alt=\"Open In Colab\"/></a>"
      ]
    },
    {
      "cell_type": "markdown",
      "metadata": {
        "id": "4BvMHYzgDgv8",
        "colab_type": "text"
      },
      "source": [
        "#**Sentence Sentiment Classification**\n",
        "\n",
        "1.   Loading data\n",
        "2.   Word embedding and mapping:\n",
        "*   Google's word2vec\n",
        "*   Facebook's FastText\n",
        "*   Bag of words\n",
        "3.   Trainning the model:\n",
        "*   Logistic regression\n",
        "*   K-nearest neighbor algorithm\n",
        "*   support vector machines\n",
        "4.   Measure performance:\n",
        "*   Train-test split\n",
        "*   loss, error rate, recall, percision\n",
        "\n",
        "Questions after testing:\n",
        "should we add regularization? feature transformation ..?\n",
        "\n",
        "\n",
        "\n",
        "\n",
        "\n"
      ]
    },
    {
      "cell_type": "markdown",
      "metadata": {
        "id": "LaAVhuZelMAt",
        "colab_type": "text"
      },
      "source": [
        "# Loading Data (UCI)"
      ]
    },
    {
      "cell_type": "code",
      "metadata": {
        "id": "R7YQEK0VfTH5",
        "colab_type": "code",
        "outputId": "c3f1c74a-762e-482e-b180-c8776d10e944",
        "colab": {
          "base_uri": "https://localhost:8080/",
          "height": 34
        }
      },
      "source": [
        "from google.colab import drive\n",
        "drive.mount('/content/drive')"
      ],
      "execution_count": 269,
      "outputs": [
        {
          "output_type": "stream",
          "text": [
            "Drive already mounted at /content/drive; to attempt to forcibly remount, call drive.mount(\"/content/drive\", force_remount=True).\n"
          ],
          "name": "stdout"
        }
      ]
    },
    {
      "cell_type": "code",
      "metadata": {
        "id": "Gpx-TFEXyEyx",
        "colab_type": "code",
        "colab": {}
      },
      "source": [
        "import numpy as np\n",
        "import matplotlib\n",
        "import matplotlib.pyplot as plt\n",
        "import pandas as pd\n",
        "from sklearn import datasets, linear_model, preprocessing\n",
        "%matplotlib inline"
      ],
      "execution_count": 0,
      "outputs": []
    },
    {
      "cell_type": "code",
      "metadata": {
        "id": "xaYo8F6zc1gk",
        "colab_type": "code",
        "colab": {}
      },
      "source": [
        "imdb_df = pd.read_csv(\"/content/drive/My Drive/Colab Notebooks/imdb_labelled.txt\", \n",
        "                        delimiter='\\t', \n",
        "                        header=None, \n",
        "                        names=['review', 'sentiment'])\n",
        "\n",
        "yelp_df = pd.read_csv(\"/content/drive/My Drive/Colab Notebooks/yelp_labelled.txt\", \n",
        "                        delimiter='\\t', \n",
        "                        header=None, \n",
        "                        names=['review', 'sentiment'])\n",
        "\n",
        "amazon_df=pd.read_csv(\"/content/drive/My Drive/Colab Notebooks/amazon_cells_labelled.txt\",delimiter='\\t',\n",
        "                        header=None, \n",
        "                        names=['review', 'sentiment'])\n",
        "\n"
      ],
      "execution_count": 0,
      "outputs": []
    },
    {
      "cell_type": "code",
      "metadata": {
        "id": "V6OcOQw7eJbH",
        "colab_type": "code",
        "outputId": "da6a09e4-34c7-4d26-c6e0-61f60de02b09",
        "colab": {
          "base_uri": "https://localhost:8080/",
          "height": 201
        }
      },
      "source": [
        "imdb_df.head()"
      ],
      "execution_count": 272,
      "outputs": [
        {
          "output_type": "execute_result",
          "data": {
            "text/html": [
              "<div>\n",
              "<style scoped>\n",
              "    .dataframe tbody tr th:only-of-type {\n",
              "        vertical-align: middle;\n",
              "    }\n",
              "\n",
              "    .dataframe tbody tr th {\n",
              "        vertical-align: top;\n",
              "    }\n",
              "\n",
              "    .dataframe thead th {\n",
              "        text-align: right;\n",
              "    }\n",
              "</style>\n",
              "<table border=\"1\" class=\"dataframe\">\n",
              "  <thead>\n",
              "    <tr style=\"text-align: right;\">\n",
              "      <th></th>\n",
              "      <th>review</th>\n",
              "      <th>sentiment</th>\n",
              "    </tr>\n",
              "  </thead>\n",
              "  <tbody>\n",
              "    <tr>\n",
              "      <th>0</th>\n",
              "      <td>A very, very, very slow-moving, aimless movie ...</td>\n",
              "      <td>0</td>\n",
              "    </tr>\n",
              "    <tr>\n",
              "      <th>1</th>\n",
              "      <td>Not sure who was more lost - the flat characte...</td>\n",
              "      <td>0</td>\n",
              "    </tr>\n",
              "    <tr>\n",
              "      <th>2</th>\n",
              "      <td>Attempting artiness with black &amp; white and cle...</td>\n",
              "      <td>0</td>\n",
              "    </tr>\n",
              "    <tr>\n",
              "      <th>3</th>\n",
              "      <td>Very little music or anything to speak of.</td>\n",
              "      <td>0</td>\n",
              "    </tr>\n",
              "    <tr>\n",
              "      <th>4</th>\n",
              "      <td>The best scene in the movie was when Gerardo i...</td>\n",
              "      <td>1</td>\n",
              "    </tr>\n",
              "  </tbody>\n",
              "</table>\n",
              "</div>"
            ],
            "text/plain": [
              "                                              review  sentiment\n",
              "0  A very, very, very slow-moving, aimless movie ...          0\n",
              "1  Not sure who was more lost - the flat characte...          0\n",
              "2  Attempting artiness with black & white and cle...          0\n",
              "3       Very little music or anything to speak of.            0\n",
              "4  The best scene in the movie was when Gerardo i...          1"
            ]
          },
          "metadata": {
            "tags": []
          },
          "execution_count": 272
        }
      ]
    },
    {
      "cell_type": "code",
      "metadata": {
        "id": "tBaw0_TbkxSQ",
        "colab_type": "code",
        "outputId": "32c2b905-af51-4127-e97f-a0cf22cee44c",
        "colab": {
          "base_uri": "https://localhost:8080/",
          "height": 201
        }
      },
      "source": [
        "yelp_df.head()"
      ],
      "execution_count": 273,
      "outputs": [
        {
          "output_type": "execute_result",
          "data": {
            "text/html": [
              "<div>\n",
              "<style scoped>\n",
              "    .dataframe tbody tr th:only-of-type {\n",
              "        vertical-align: middle;\n",
              "    }\n",
              "\n",
              "    .dataframe tbody tr th {\n",
              "        vertical-align: top;\n",
              "    }\n",
              "\n",
              "    .dataframe thead th {\n",
              "        text-align: right;\n",
              "    }\n",
              "</style>\n",
              "<table border=\"1\" class=\"dataframe\">\n",
              "  <thead>\n",
              "    <tr style=\"text-align: right;\">\n",
              "      <th></th>\n",
              "      <th>review</th>\n",
              "      <th>sentiment</th>\n",
              "    </tr>\n",
              "  </thead>\n",
              "  <tbody>\n",
              "    <tr>\n",
              "      <th>0</th>\n",
              "      <td>Wow... Loved this place.</td>\n",
              "      <td>1</td>\n",
              "    </tr>\n",
              "    <tr>\n",
              "      <th>1</th>\n",
              "      <td>Crust is not good.</td>\n",
              "      <td>0</td>\n",
              "    </tr>\n",
              "    <tr>\n",
              "      <th>2</th>\n",
              "      <td>Not tasty and the texture was just nasty.</td>\n",
              "      <td>0</td>\n",
              "    </tr>\n",
              "    <tr>\n",
              "      <th>3</th>\n",
              "      <td>Stopped by during the late May bank holiday of...</td>\n",
              "      <td>1</td>\n",
              "    </tr>\n",
              "    <tr>\n",
              "      <th>4</th>\n",
              "      <td>The selection on the menu was great and so wer...</td>\n",
              "      <td>1</td>\n",
              "    </tr>\n",
              "  </tbody>\n",
              "</table>\n",
              "</div>"
            ],
            "text/plain": [
              "                                              review  sentiment\n",
              "0                           Wow... Loved this place.          1\n",
              "1                                 Crust is not good.          0\n",
              "2          Not tasty and the texture was just nasty.          0\n",
              "3  Stopped by during the late May bank holiday of...          1\n",
              "4  The selection on the menu was great and so wer...          1"
            ]
          },
          "metadata": {
            "tags": []
          },
          "execution_count": 273
        }
      ]
    },
    {
      "cell_type": "code",
      "metadata": {
        "id": "-EAjL4ANk2lg",
        "colab_type": "code",
        "outputId": "3d642ea7-2be9-442f-d0cc-ffbc392eef1f",
        "colab": {
          "base_uri": "https://localhost:8080/",
          "height": 201
        }
      },
      "source": [
        "amazon_df.head()"
      ],
      "execution_count": 274,
      "outputs": [
        {
          "output_type": "execute_result",
          "data": {
            "text/html": [
              "<div>\n",
              "<style scoped>\n",
              "    .dataframe tbody tr th:only-of-type {\n",
              "        vertical-align: middle;\n",
              "    }\n",
              "\n",
              "    .dataframe tbody tr th {\n",
              "        vertical-align: top;\n",
              "    }\n",
              "\n",
              "    .dataframe thead th {\n",
              "        text-align: right;\n",
              "    }\n",
              "</style>\n",
              "<table border=\"1\" class=\"dataframe\">\n",
              "  <thead>\n",
              "    <tr style=\"text-align: right;\">\n",
              "      <th></th>\n",
              "      <th>review</th>\n",
              "      <th>sentiment</th>\n",
              "    </tr>\n",
              "  </thead>\n",
              "  <tbody>\n",
              "    <tr>\n",
              "      <th>0</th>\n",
              "      <td>So there is no way for me to plug it in here i...</td>\n",
              "      <td>0</td>\n",
              "    </tr>\n",
              "    <tr>\n",
              "      <th>1</th>\n",
              "      <td>Good case, Excellent value.</td>\n",
              "      <td>1</td>\n",
              "    </tr>\n",
              "    <tr>\n",
              "      <th>2</th>\n",
              "      <td>Great for the jawbone.</td>\n",
              "      <td>1</td>\n",
              "    </tr>\n",
              "    <tr>\n",
              "      <th>3</th>\n",
              "      <td>Tied to charger for conversations lasting more...</td>\n",
              "      <td>0</td>\n",
              "    </tr>\n",
              "    <tr>\n",
              "      <th>4</th>\n",
              "      <td>The mic is great.</td>\n",
              "      <td>1</td>\n",
              "    </tr>\n",
              "  </tbody>\n",
              "</table>\n",
              "</div>"
            ],
            "text/plain": [
              "                                              review  sentiment\n",
              "0  So there is no way for me to plug it in here i...          0\n",
              "1                        Good case, Excellent value.          1\n",
              "2                             Great for the jawbone.          1\n",
              "3  Tied to charger for conversations lasting more...          0\n",
              "4                                  The mic is great.          1"
            ]
          },
          "metadata": {
            "tags": []
          },
          "execution_count": 274
        }
      ]
    },
    {
      "cell_type": "code",
      "metadata": {
        "id": "nn3NgC08k9P-",
        "colab_type": "code",
        "colab": {}
      },
      "source": [
        "allData = pd.concat([amazon_df,yelp_df,imdb_df])"
      ],
      "execution_count": 0,
      "outputs": []
    },
    {
      "cell_type": "code",
      "metadata": {
        "id": "NT8o4vaPlmud",
        "colab_type": "code",
        "outputId": "7c7c3d9a-0879-4e58-dbd8-76eb5e103927",
        "colab": {
          "base_uri": "https://localhost:8080/",
          "height": 413
        }
      },
      "source": [
        "allData"
      ],
      "execution_count": 276,
      "outputs": [
        {
          "output_type": "execute_result",
          "data": {
            "text/html": [
              "<div>\n",
              "<style scoped>\n",
              "    .dataframe tbody tr th:only-of-type {\n",
              "        vertical-align: middle;\n",
              "    }\n",
              "\n",
              "    .dataframe tbody tr th {\n",
              "        vertical-align: top;\n",
              "    }\n",
              "\n",
              "    .dataframe thead th {\n",
              "        text-align: right;\n",
              "    }\n",
              "</style>\n",
              "<table border=\"1\" class=\"dataframe\">\n",
              "  <thead>\n",
              "    <tr style=\"text-align: right;\">\n",
              "      <th></th>\n",
              "      <th>review</th>\n",
              "      <th>sentiment</th>\n",
              "    </tr>\n",
              "  </thead>\n",
              "  <tbody>\n",
              "    <tr>\n",
              "      <th>0</th>\n",
              "      <td>So there is no way for me to plug it in here i...</td>\n",
              "      <td>0</td>\n",
              "    </tr>\n",
              "    <tr>\n",
              "      <th>1</th>\n",
              "      <td>Good case, Excellent value.</td>\n",
              "      <td>1</td>\n",
              "    </tr>\n",
              "    <tr>\n",
              "      <th>2</th>\n",
              "      <td>Great for the jawbone.</td>\n",
              "      <td>1</td>\n",
              "    </tr>\n",
              "    <tr>\n",
              "      <th>3</th>\n",
              "      <td>Tied to charger for conversations lasting more...</td>\n",
              "      <td>0</td>\n",
              "    </tr>\n",
              "    <tr>\n",
              "      <th>4</th>\n",
              "      <td>The mic is great.</td>\n",
              "      <td>1</td>\n",
              "    </tr>\n",
              "    <tr>\n",
              "      <th>...</th>\n",
              "      <td>...</td>\n",
              "      <td>...</td>\n",
              "    </tr>\n",
              "    <tr>\n",
              "      <th>743</th>\n",
              "      <td>I just got bored watching Jessice Lange take h...</td>\n",
              "      <td>0</td>\n",
              "    </tr>\n",
              "    <tr>\n",
              "      <th>744</th>\n",
              "      <td>Unfortunately, any virtue in this film's produ...</td>\n",
              "      <td>0</td>\n",
              "    </tr>\n",
              "    <tr>\n",
              "      <th>745</th>\n",
              "      <td>In a word, it is embarrassing.</td>\n",
              "      <td>0</td>\n",
              "    </tr>\n",
              "    <tr>\n",
              "      <th>746</th>\n",
              "      <td>Exceptionally bad!</td>\n",
              "      <td>0</td>\n",
              "    </tr>\n",
              "    <tr>\n",
              "      <th>747</th>\n",
              "      <td>All in all its an insult to one's intelligence...</td>\n",
              "      <td>0</td>\n",
              "    </tr>\n",
              "  </tbody>\n",
              "</table>\n",
              "<p>2748 rows × 2 columns</p>\n",
              "</div>"
            ],
            "text/plain": [
              "                                                review  sentiment\n",
              "0    So there is no way for me to plug it in here i...          0\n",
              "1                          Good case, Excellent value.          1\n",
              "2                               Great for the jawbone.          1\n",
              "3    Tied to charger for conversations lasting more...          0\n",
              "4                                    The mic is great.          1\n",
              "..                                                 ...        ...\n",
              "743  I just got bored watching Jessice Lange take h...          0\n",
              "744  Unfortunately, any virtue in this film's produ...          0\n",
              "745                   In a word, it is embarrassing.            0\n",
              "746                               Exceptionally bad!            0\n",
              "747  All in all its an insult to one's intelligence...          0\n",
              "\n",
              "[2748 rows x 2 columns]"
            ]
          },
          "metadata": {
            "tags": []
          },
          "execution_count": 276
        }
      ]
    },
    {
      "cell_type": "code",
      "metadata": {
        "id": "gfHSI-AtlqcZ",
        "colab_type": "code",
        "colab": {}
      },
      "source": [
        "sentences=allData['review'].tolist()\n",
        "label=allData['sentiment'].tolist()"
      ],
      "execution_count": 0,
      "outputs": []
    },
    {
      "cell_type": "code",
      "metadata": {
        "id": "77wvZnSsmXfZ",
        "colab_type": "code",
        "outputId": "8e2b5fb8-4edc-47e3-85f0-dd311bbf5f3e",
        "colab": {
          "base_uri": "https://localhost:8080/",
          "height": 136
        }
      },
      "source": [
        "# examples:\n",
        "for i in range(7):\n",
        "    print(\"{} {}\".format(sentences[i],label[i]))"
      ],
      "execution_count": 278,
      "outputs": [
        {
          "output_type": "stream",
          "text": [
            "So there is no way for me to plug it in here in the US unless I go by a converter. 0\n",
            "Good case, Excellent value. 1\n",
            "Great for the jawbone. 1\n",
            "Tied to charger for conversations lasting more than 45 minutes.MAJOR PROBLEMS!! 0\n",
            "The mic is great. 1\n",
            "I have to jiggle the plug to get it to line up right to get decent volume. 0\n",
            "If you have several dozen or several hundred contacts, then imagine the fun of sending each of them one by one. 0\n"
          ],
          "name": "stdout"
        }
      ]
    },
    {
      "cell_type": "code",
      "metadata": {
        "id": "lhphL8LDmk2x",
        "colab_type": "code",
        "outputId": "dc7d3974-78ce-4663-de59-7abab9806120",
        "colab": {
          "base_uri": "https://localhost:8080/",
          "height": 34
        }
      },
      "source": [
        "allData.shape"
      ],
      "execution_count": 279,
      "outputs": [
        {
          "output_type": "execute_result",
          "data": {
            "text/plain": [
              "(2748, 2)"
            ]
          },
          "metadata": {
            "tags": []
          },
          "execution_count": 279
        }
      ]
    },
    {
      "cell_type": "markdown",
      "metadata": {
        "id": "4a7vIb_XzckS",
        "colab_type": "text"
      },
      "source": [
        "# word2vec\n",
        "\n",
        "Using Gensim library"
      ]
    },
    {
      "cell_type": "code",
      "metadata": {
        "id": "tTtnDbsTzkJH",
        "colab_type": "code",
        "colab": {}
      },
      "source": [
        "from time import time  # To time our operations\n",
        "from collections import defaultdict  # For word frequency\n",
        "\n",
        "import spacy  # For preprocessing\n",
        "import re  # For preprocessing\n",
        "\n",
        "import logging  # Setting up the loggings to monitor gensim\n",
        "logging.basicConfig(format=\"%(levelname)s - %(asctime)s: %(message)s\", datefmt= '%H:%M:%S', level=logging.INFO)"
      ],
      "execution_count": 0,
      "outputs": []
    },
    {
      "cell_type": "code",
      "metadata": {
        "id": "rCfdzESiz6E2",
        "colab_type": "code",
        "outputId": "dd39a620-168b-4c88-ecd0-d4b112b8ca28",
        "colab": {
          "base_uri": "https://localhost:8080/",
          "height": 68
        }
      },
      "source": [
        "# make sure the data is clean\n",
        "allData.isnull().sum()"
      ],
      "execution_count": 281,
      "outputs": [
        {
          "output_type": "execute_result",
          "data": {
            "text/plain": [
              "review       0\n",
              "sentiment    0\n",
              "dtype: int64"
            ]
          },
          "metadata": {
            "tags": []
          },
          "execution_count": 281
        }
      ]
    },
    {
      "cell_type": "markdown",
      "metadata": {
        "id": "6uYSKygn7q7J",
        "colab_type": "text"
      },
      "source": [
        "##bigrams (small data)\n",
        "\n",
        "> Indented block\n",
        "\n"
      ]
    },
    {
      "cell_type": "code",
      "metadata": {
        "id": "0DKQLEMp2Q_i",
        "colab_type": "code",
        "colab": {}
      },
      "source": [
        "from gensim.models.phrases import Phrases, Phraser"
      ],
      "execution_count": 0,
      "outputs": []
    },
    {
      "cell_type": "code",
      "metadata": {
        "id": "u-X7rLDQz_Iv",
        "colab_type": "code",
        "colab": {}
      },
      "source": [
        "sent = [row.split() for row in allData['review']]"
      ],
      "execution_count": 0,
      "outputs": []
    },
    {
      "cell_type": "code",
      "metadata": {
        "id": "alrdy67a5TN7",
        "colab_type": "code",
        "outputId": "90925a5b-1588-4873-d4f1-fe6166fb0027",
        "colab": {
          "base_uri": "https://localhost:8080/",
          "height": 119
        }
      },
      "source": [
        "phrases = Phrases(sent, min_count=30, progress_per=1000)"
      ],
      "execution_count": 284,
      "outputs": [
        {
          "output_type": "stream",
          "text": [
            "INFO - 04:18:33: collecting all words and their counts\n",
            "INFO - 04:18:33: PROGRESS: at sentence #0, processed 0 words and 0 word types\n",
            "INFO - 04:18:33: PROGRESS: at sentence #1000, processed 10246 words and 9671 word types\n",
            "INFO - 04:18:33: PROGRESS: at sentence #2000, processed 21140 words and 18504 word types\n",
            "INFO - 04:18:33: collected 30876 word types from a corpus of 35742 words (unigram + bigrams) and 2748 sentences\n",
            "INFO - 04:18:33: using 30876 counts as vocab in Phrases<0 vocab, min_count=30, threshold=10.0, max_vocab_size=40000000>\n"
          ],
          "name": "stderr"
        }
      ]
    },
    {
      "cell_type": "code",
      "metadata": {
        "id": "3w-3aKll5rur",
        "colab_type": "code",
        "outputId": "87d3ec8d-2f44-43fe-8e12-d179c6d75c1f",
        "colab": {
          "base_uri": "https://localhost:8080/",
          "height": 51
        }
      },
      "source": [
        "bigram = Phraser(phrases)\n",
        "sentences = bigram[sent]"
      ],
      "execution_count": 285,
      "outputs": [
        {
          "output_type": "stream",
          "text": [
            "INFO - 04:18:33: source_vocab length 30876\n",
            "INFO - 04:18:33: Phraser built with 0 phrasegrams\n"
          ],
          "name": "stderr"
        }
      ]
    },
    {
      "cell_type": "code",
      "metadata": {
        "id": "j62axnEV59Ar",
        "colab_type": "code",
        "outputId": "85e96c7e-99d3-48fe-fa2f-b27b0f8fa53d",
        "colab": {
          "base_uri": "https://localhost:8080/",
          "height": 34
        }
      },
      "source": [
        "sentences"
      ],
      "execution_count": 286,
      "outputs": [
        {
          "output_type": "execute_result",
          "data": {
            "text/plain": [
              "<gensim.interfaces.TransformedCorpus at 0x7f48d6d635c0>"
            ]
          },
          "metadata": {
            "tags": []
          },
          "execution_count": 286
        }
      ]
    },
    {
      "cell_type": "code",
      "metadata": {
        "id": "X03H3raa6GqO",
        "colab_type": "code",
        "outputId": "d604c09d-b24c-41af-ebce-b8510587008b",
        "colab": {
          "base_uri": "https://localhost:8080/",
          "height": 34
        }
      },
      "source": [
        "word_freq = defaultdict(int)\n",
        "for sent in sentences:\n",
        "    for i in sent:\n",
        "        word_freq[i] += 1\n",
        "len(word_freq)"
      ],
      "execution_count": 287,
      "outputs": [
        {
          "output_type": "execute_result",
          "data": {
            "text/plain": [
              "8012"
            ]
          },
          "metadata": {
            "tags": []
          },
          "execution_count": 287
        }
      ]
    },
    {
      "cell_type": "markdown",
      "metadata": {
        "id": "XfGeOzEy8SBu",
        "colab_type": "text"
      },
      "source": [
        "##Train (small data)"
      ]
    },
    {
      "cell_type": "code",
      "metadata": {
        "id": "_xZpMwDF8-Rc",
        "colab_type": "code",
        "colab": {}
      },
      "source": [
        "import multiprocessing\n",
        "\n",
        "from gensim.models import Word2Vec"
      ],
      "execution_count": 0,
      "outputs": []
    },
    {
      "cell_type": "code",
      "metadata": {
        "id": "evjMqoCQ869w",
        "colab_type": "code",
        "colab": {}
      },
      "source": [
        "cores = multiprocessing.cpu_count() # Count the number of cores in a computer"
      ],
      "execution_count": 0,
      "outputs": []
    },
    {
      "cell_type": "code",
      "metadata": {
        "id": "f8yayPby6yB0",
        "colab_type": "code",
        "colab": {}
      },
      "source": [
        "# 1-setup\n",
        "w2v_model = Word2Vec(min_count=10,\n",
        "                     window=10,\n",
        "                     size=300,\n",
        "                     sample=6e-5, \n",
        "                     alpha=0.03, \n",
        "                     min_alpha=0.0007, \n",
        "                     negative=20,\n",
        "                     workers=cores-1)"
      ],
      "execution_count": 0,
      "outputs": []
    },
    {
      "cell_type": "code",
      "metadata": {
        "id": "Wey1XE-x9C7D",
        "colab_type": "code",
        "colab": {}
      },
      "source": [
        "# #2-building vocabulary\n",
        "# w2v_model.build_vocab(sentences, progress_per=1000)"
      ],
      "execution_count": 0,
      "outputs": []
    },
    {
      "cell_type": "code",
      "metadata": {
        "id": "9JKxrArR9LQ0",
        "colab_type": "code",
        "colab": {}
      },
      "source": [
        "# #3-trainning the model\n",
        "# w2v_model.train(sentences, total_examples=w2v_model.corpus_count, epochs=30, report_delay=1)"
      ],
      "execution_count": 0,
      "outputs": []
    },
    {
      "cell_type": "code",
      "metadata": {
        "id": "OOPD3WbX9U4G",
        "colab_type": "code",
        "colab": {}
      },
      "source": [
        "# #memory effeciency\n",
        "# w2v_model.init_sims(replace=True)"
      ],
      "execution_count": 0,
      "outputs": []
    },
    {
      "cell_type": "code",
      "metadata": {
        "id": "QLKXxdIV9ka8",
        "colab_type": "code",
        "colab": {}
      },
      "source": [
        "# w2v_model.wv.most_similar(positive=[\"amazing\"])"
      ],
      "execution_count": 0,
      "outputs": []
    },
    {
      "cell_type": "code",
      "metadata": {
        "id": "D65-rXjD-TXk",
        "colab_type": "code",
        "colab": {}
      },
      "source": [
        "# w2v_model.wv.most_similar(positive=[\"bad\"])"
      ],
      "execution_count": 0,
      "outputs": []
    },
    {
      "cell_type": "markdown",
      "metadata": {
        "id": "FTyJC4f8SNGo",
        "colab_type": "text"
      },
      "source": [
        "#Adding bigger data from Amazon"
      ]
    },
    {
      "cell_type": "code",
      "metadata": {
        "id": "Gfnma3tRBfTR",
        "colab_type": "code",
        "outputId": "95807e9a-7b03-4833-e0f7-4cdca085aced",
        "colab": {
          "base_uri": "https://localhost:8080/",
          "height": 71
        }
      },
      "source": [
        "# try adding new data\n",
        "names = ['ID', 'productID','userID', 'Profilename', \n",
        "         'helpfulnessnum', 'helpfulnessden', 'score', 'time', 'summary','text']\n",
        "df1 = pd.read_csv('/content/drive/My Drive/Colab Notebooks/Reviews.csv',\n",
        "                 header=None,names=names,na_values='?')"
      ],
      "execution_count": 296,
      "outputs": [
        {
          "output_type": "stream",
          "text": [
            "/usr/local/lib/python3.6/dist-packages/IPython/core/interactiveshell.py:2718: DtypeWarning: Columns (0,4,5,6,7) have mixed types.Specify dtype option on import or set low_memory=False.\n",
            "  interactivity=interactivity, compiler=compiler, result=result)\n"
          ],
          "name": "stderr"
        }
      ]
    },
    {
      "cell_type": "code",
      "metadata": {
        "id": "GMthzIlNVfb4",
        "colab_type": "code",
        "colab": {}
      },
      "source": [
        "# remove first raw\n",
        "df2 = df1[1:]"
      ],
      "execution_count": 0,
      "outputs": []
    },
    {
      "cell_type": "code",
      "metadata": {
        "id": "uHTyFtE0Kz5B",
        "colab_type": "code",
        "colab": {}
      },
      "source": [
        "df3 = df2[df2['score']!=3]  "
      ],
      "execution_count": 0,
      "outputs": []
    },
    {
      "cell_type": "code",
      "metadata": {
        "id": "JQvox57rLn_l",
        "colab_type": "code",
        "colab": {}
      },
      "source": [
        "df=df3[['text','score']]\n"
      ],
      "execution_count": 0,
      "outputs": []
    },
    {
      "cell_type": "code",
      "metadata": {
        "id": "9ATrXmKnN5zg",
        "colab_type": "code",
        "outputId": "ad371b26-f8c8-4f38-cb13-29f8d94519e2",
        "colab": {
          "base_uri": "https://localhost:8080/",
          "height": 218
        }
      },
      "source": [
        "print(df.shape)\n",
        "df.head()"
      ],
      "execution_count": 300,
      "outputs": [
        {
          "output_type": "stream",
          "text": [
            "(531051, 2)\n"
          ],
          "name": "stdout"
        },
        {
          "output_type": "execute_result",
          "data": {
            "text/html": [
              "<div>\n",
              "<style scoped>\n",
              "    .dataframe tbody tr th:only-of-type {\n",
              "        vertical-align: middle;\n",
              "    }\n",
              "\n",
              "    .dataframe tbody tr th {\n",
              "        vertical-align: top;\n",
              "    }\n",
              "\n",
              "    .dataframe thead th {\n",
              "        text-align: right;\n",
              "    }\n",
              "</style>\n",
              "<table border=\"1\" class=\"dataframe\">\n",
              "  <thead>\n",
              "    <tr style=\"text-align: right;\">\n",
              "      <th></th>\n",
              "      <th>text</th>\n",
              "      <th>score</th>\n",
              "    </tr>\n",
              "  </thead>\n",
              "  <tbody>\n",
              "    <tr>\n",
              "      <th>1</th>\n",
              "      <td>I have bought several of the Vitality canned d...</td>\n",
              "      <td>5</td>\n",
              "    </tr>\n",
              "    <tr>\n",
              "      <th>2</th>\n",
              "      <td>Product arrived labeled as Jumbo Salted Peanut...</td>\n",
              "      <td>1</td>\n",
              "    </tr>\n",
              "    <tr>\n",
              "      <th>3</th>\n",
              "      <td>This is a confection that has been around a fe...</td>\n",
              "      <td>4</td>\n",
              "    </tr>\n",
              "    <tr>\n",
              "      <th>4</th>\n",
              "      <td>If you are looking for the secret ingredient i...</td>\n",
              "      <td>2</td>\n",
              "    </tr>\n",
              "    <tr>\n",
              "      <th>5</th>\n",
              "      <td>Great taffy at a great price.  There was a wid...</td>\n",
              "      <td>5</td>\n",
              "    </tr>\n",
              "  </tbody>\n",
              "</table>\n",
              "</div>"
            ],
            "text/plain": [
              "                                                text score\n",
              "1  I have bought several of the Vitality canned d...     5\n",
              "2  Product arrived labeled as Jumbo Salted Peanut...     1\n",
              "3  This is a confection that has been around a fe...     4\n",
              "4  If you are looking for the secret ingredient i...     2\n",
              "5  Great taffy at a great price.  There was a wid...     5"
            ]
          },
          "metadata": {
            "tags": []
          },
          "execution_count": 300
        }
      ]
    },
    {
      "cell_type": "code",
      "metadata": {
        "id": "TSWxRk48ODCn",
        "colab_type": "code",
        "outputId": "74fb3be5-e25b-4e23-928f-f479fb202e6c",
        "colab": {
          "base_uri": "https://localhost:8080/",
          "height": 51
        }
      },
      "source": [
        "# make sure the data is clean (no null)\n",
        "print(df['score'].isnull().sum())\n",
        "df['text'].isnull().sum() "
      ],
      "execution_count": 301,
      "outputs": [
        {
          "output_type": "stream",
          "text": [
            "0\n"
          ],
          "name": "stdout"
        },
        {
          "output_type": "execute_result",
          "data": {
            "text/plain": [
              "0"
            ]
          },
          "metadata": {
            "tags": []
          },
          "execution_count": 301
        }
      ]
    },
    {
      "cell_type": "code",
      "metadata": {
        "id": "wGfSm8xnOs0Z",
        "colab_type": "code",
        "colab": {}
      },
      "source": [
        "def mark_sentiment(rating):\n",
        "  if(int(rating)<3):\n",
        "    return 0\n",
        "  else:\n",
        "    return 1"
      ],
      "execution_count": 0,
      "outputs": []
    },
    {
      "cell_type": "code",
      "metadata": {
        "id": "EYLnC26zOuwa",
        "colab_type": "code",
        "outputId": "c4b35c29-0ba1-4fae-e311-930a174be261",
        "colab": {
          "base_uri": "https://localhost:8080/",
          "height": 204
        }
      },
      "source": [
        "df['sentiment']=df['score'].apply(mark_sentiment)\n",
        "df.drop(['score'],axis=1,inplace=True)\n"
      ],
      "execution_count": 303,
      "outputs": [
        {
          "output_type": "stream",
          "text": [
            "/usr/local/lib/python3.6/dist-packages/ipykernel_launcher.py:1: SettingWithCopyWarning: \n",
            "A value is trying to be set on a copy of a slice from a DataFrame.\n",
            "Try using .loc[row_indexer,col_indexer] = value instead\n",
            "\n",
            "See the caveats in the documentation: https://pandas.pydata.org/pandas-docs/stable/user_guide/indexing.html#returning-a-view-versus-a-copy\n",
            "  \"\"\"Entry point for launching an IPython kernel.\n",
            "/usr/local/lib/python3.6/dist-packages/pandas/core/frame.py:3997: SettingWithCopyWarning: \n",
            "A value is trying to be set on a copy of a slice from a DataFrame\n",
            "\n",
            "See the caveats in the documentation: https://pandas.pydata.org/pandas-docs/stable/user_guide/indexing.html#returning-a-view-versus-a-copy\n",
            "  errors=errors,\n"
          ],
          "name": "stderr"
        }
      ]
    },
    {
      "cell_type": "code",
      "metadata": {
        "id": "Eer-ZUFRTNNk",
        "colab_type": "code",
        "outputId": "6866f8a2-2521-4a86-cdb0-a38f7c3ca748",
        "colab": {
          "base_uri": "https://localhost:8080/",
          "height": 204
        }
      },
      "source": [
        "df['review']=df['text']\n",
        "df.drop(['text'],axis=1,inplace=True)"
      ],
      "execution_count": 304,
      "outputs": [
        {
          "output_type": "stream",
          "text": [
            "/usr/local/lib/python3.6/dist-packages/ipykernel_launcher.py:1: SettingWithCopyWarning: \n",
            "A value is trying to be set on a copy of a slice from a DataFrame.\n",
            "Try using .loc[row_indexer,col_indexer] = value instead\n",
            "\n",
            "See the caveats in the documentation: https://pandas.pydata.org/pandas-docs/stable/user_guide/indexing.html#returning-a-view-versus-a-copy\n",
            "  \"\"\"Entry point for launching an IPython kernel.\n",
            "/usr/local/lib/python3.6/dist-packages/pandas/core/frame.py:3997: SettingWithCopyWarning: \n",
            "A value is trying to be set on a copy of a slice from a DataFrame\n",
            "\n",
            "See the caveats in the documentation: https://pandas.pydata.org/pandas-docs/stable/user_guide/indexing.html#returning-a-view-versus-a-copy\n",
            "  errors=errors,\n"
          ],
          "name": "stderr"
        }
      ]
    },
    {
      "cell_type": "code",
      "metadata": {
        "id": "u5UyIpL3K1jp",
        "colab_type": "code",
        "outputId": "be7d6b39-7c2d-4071-ee83-fb521c0f798b",
        "colab": {
          "base_uri": "https://localhost:8080/",
          "height": 201
        }
      },
      "source": [
        "df.head()"
      ],
      "execution_count": 305,
      "outputs": [
        {
          "output_type": "execute_result",
          "data": {
            "text/html": [
              "<div>\n",
              "<style scoped>\n",
              "    .dataframe tbody tr th:only-of-type {\n",
              "        vertical-align: middle;\n",
              "    }\n",
              "\n",
              "    .dataframe tbody tr th {\n",
              "        vertical-align: top;\n",
              "    }\n",
              "\n",
              "    .dataframe thead th {\n",
              "        text-align: right;\n",
              "    }\n",
              "</style>\n",
              "<table border=\"1\" class=\"dataframe\">\n",
              "  <thead>\n",
              "    <tr style=\"text-align: right;\">\n",
              "      <th></th>\n",
              "      <th>sentiment</th>\n",
              "      <th>review</th>\n",
              "    </tr>\n",
              "  </thead>\n",
              "  <tbody>\n",
              "    <tr>\n",
              "      <th>1</th>\n",
              "      <td>1</td>\n",
              "      <td>I have bought several of the Vitality canned d...</td>\n",
              "    </tr>\n",
              "    <tr>\n",
              "      <th>2</th>\n",
              "      <td>0</td>\n",
              "      <td>Product arrived labeled as Jumbo Salted Peanut...</td>\n",
              "    </tr>\n",
              "    <tr>\n",
              "      <th>3</th>\n",
              "      <td>1</td>\n",
              "      <td>This is a confection that has been around a fe...</td>\n",
              "    </tr>\n",
              "    <tr>\n",
              "      <th>4</th>\n",
              "      <td>0</td>\n",
              "      <td>If you are looking for the secret ingredient i...</td>\n",
              "    </tr>\n",
              "    <tr>\n",
              "      <th>5</th>\n",
              "      <td>1</td>\n",
              "      <td>Great taffy at a great price.  There was a wid...</td>\n",
              "    </tr>\n",
              "  </tbody>\n",
              "</table>\n",
              "</div>"
            ],
            "text/plain": [
              "   sentiment                                             review\n",
              "1          1  I have bought several of the Vitality canned d...\n",
              "2          0  Product arrived labeled as Jumbo Salted Peanut...\n",
              "3          1  This is a confection that has been around a fe...\n",
              "4          0  If you are looking for the secret ingredient i...\n",
              "5          1  Great taffy at a great price.  There was a wid..."
            ]
          },
          "metadata": {
            "tags": []
          },
          "execution_count": 305
        }
      ]
    },
    {
      "cell_type": "code",
      "metadata": {
        "id": "vCSaOezfQ0ik",
        "colab_type": "code",
        "outputId": "2f30d288-d830-4449-9cda-b6362c2f38f2",
        "colab": {
          "base_uri": "https://localhost:8080/",
          "height": 34
        }
      },
      "source": [
        "df.shape"
      ],
      "execution_count": 306,
      "outputs": [
        {
          "output_type": "execute_result",
          "data": {
            "text/plain": [
              "(531051, 2)"
            ]
          },
          "metadata": {
            "tags": []
          },
          "execution_count": 306
        }
      ]
    },
    {
      "cell_type": "code",
      "metadata": {
        "id": "V-rFibx_Lb8o",
        "colab_type": "code",
        "colab": {}
      },
      "source": [
        "data = pd.concat([allData, df])"
      ],
      "execution_count": 0,
      "outputs": []
    },
    {
      "cell_type": "code",
      "metadata": {
        "id": "9cosSLT5QujG",
        "colab_type": "code",
        "outputId": "73f2759e-19a5-4136-c9d7-2b80a91670ff",
        "colab": {
          "base_uri": "https://localhost:8080/",
          "height": 34
        }
      },
      "source": [
        "data.shape"
      ],
      "execution_count": 308,
      "outputs": [
        {
          "output_type": "execute_result",
          "data": {
            "text/plain": [
              "(533799, 2)"
            ]
          },
          "metadata": {
            "tags": []
          },
          "execution_count": 308
        }
      ]
    },
    {
      "cell_type": "code",
      "metadata": {
        "id": "qYeLSNphSmsA",
        "colab_type": "code",
        "outputId": "816b9ca3-9fff-49cd-8319-5f95cacbfc10",
        "colab": {
          "base_uri": "https://localhost:8080/",
          "height": 201
        }
      },
      "source": [
        "data.head()"
      ],
      "execution_count": 309,
      "outputs": [
        {
          "output_type": "execute_result",
          "data": {
            "text/html": [
              "<div>\n",
              "<style scoped>\n",
              "    .dataframe tbody tr th:only-of-type {\n",
              "        vertical-align: middle;\n",
              "    }\n",
              "\n",
              "    .dataframe tbody tr th {\n",
              "        vertical-align: top;\n",
              "    }\n",
              "\n",
              "    .dataframe thead th {\n",
              "        text-align: right;\n",
              "    }\n",
              "</style>\n",
              "<table border=\"1\" class=\"dataframe\">\n",
              "  <thead>\n",
              "    <tr style=\"text-align: right;\">\n",
              "      <th></th>\n",
              "      <th>review</th>\n",
              "      <th>sentiment</th>\n",
              "    </tr>\n",
              "  </thead>\n",
              "  <tbody>\n",
              "    <tr>\n",
              "      <th>0</th>\n",
              "      <td>So there is no way for me to plug it in here i...</td>\n",
              "      <td>0</td>\n",
              "    </tr>\n",
              "    <tr>\n",
              "      <th>1</th>\n",
              "      <td>Good case, Excellent value.</td>\n",
              "      <td>1</td>\n",
              "    </tr>\n",
              "    <tr>\n",
              "      <th>2</th>\n",
              "      <td>Great for the jawbone.</td>\n",
              "      <td>1</td>\n",
              "    </tr>\n",
              "    <tr>\n",
              "      <th>3</th>\n",
              "      <td>Tied to charger for conversations lasting more...</td>\n",
              "      <td>0</td>\n",
              "    </tr>\n",
              "    <tr>\n",
              "      <th>4</th>\n",
              "      <td>The mic is great.</td>\n",
              "      <td>1</td>\n",
              "    </tr>\n",
              "  </tbody>\n",
              "</table>\n",
              "</div>"
            ],
            "text/plain": [
              "                                              review  sentiment\n",
              "0  So there is no way for me to plug it in here i...          0\n",
              "1                        Good case, Excellent value.          1\n",
              "2                             Great for the jawbone.          1\n",
              "3  Tied to charger for conversations lasting more...          0\n",
              "4                                  The mic is great.          1"
            ]
          },
          "metadata": {
            "tags": []
          },
          "execution_count": 309
        }
      ]
    },
    {
      "cell_type": "code",
      "metadata": {
        "id": "NZ_qF6_ohHxs",
        "colab_type": "code",
        "outputId": "91603465-4015-4631-c045-1de7d7e19903",
        "colab": {
          "base_uri": "https://localhost:8080/",
          "height": 34
        }
      },
      "source": [
        " data = data[:100000]\n",
        " data.shape"
      ],
      "execution_count": 310,
      "outputs": [
        {
          "output_type": "execute_result",
          "data": {
            "text/plain": [
              "(100000, 2)"
            ]
          },
          "metadata": {
            "tags": []
          },
          "execution_count": 310
        }
      ]
    },
    {
      "cell_type": "code",
      "metadata": {
        "id": "l6Vn16_GH6uM",
        "colab_type": "code",
        "outputId": "06f97f27-2d1d-4882-9ce7-cfd998f7a651",
        "colab": {
          "base_uri": "https://localhost:8080/",
          "height": 279
        }
      },
      "source": [
        "data['sentiment'].value_counts().plot(kind='bar')"
      ],
      "execution_count": 311,
      "outputs": [
        {
          "output_type": "execute_result",
          "data": {
            "text/plain": [
              "<matplotlib.axes._subplots.AxesSubplot at 0x7f48d2ae5c50>"
            ]
          },
          "metadata": {
            "tags": []
          },
          "execution_count": 311
        },
        {
          "output_type": "display_data",
          "data": {
            "image/png": "[encoded data removed]",
            "text/plain": [
              "<Figure size 432x288 with 1 Axes>"
            ]
          },
          "metadata": {
            "tags": [],
            "needs_background": "light"
          }
        }
      ]
    },
    {
      "cell_type": "markdown",
      "metadata": {
        "id": "vdMQQ9AwoxOj",
        "colab_type": "text"
      },
      "source": [
        "##Preprocessing and cleanning"
      ]
    },
    {
      "cell_type": "code",
      "metadata": {
        "id": "8LFgjvDWo48H",
        "colab_type": "code",
        "outputId": "8e23207a-0531-4f16-80a2-229924056323",
        "colab": {
          "base_uri": "https://localhost:8080/",
          "height": 85
        }
      },
      "source": [
        "import string\n",
        "import nltk\n",
        "nltk.download('stopwords')\n",
        "nltk.download('punkt')\n",
        "\n",
        "from nltk.corpus import stopwords\n",
        "from nltk.tokenize import word_tokenize"
      ],
      "execution_count": 312,
      "outputs": [
        {
          "output_type": "stream",
          "text": [
            "[nltk_data] Downloading package stopwords to /root/nltk_data...\n",
            "[nltk_data]   Package stopwords is already up-to-date!\n",
            "[nltk_data] Downloading package punkt to /root/nltk_data...\n",
            "[nltk_data]   Package punkt is already up-to-date!\n"
          ],
          "name": "stdout"
        }
      ]
    },
    {
      "cell_type": "code",
      "metadata": {
        "id": "M-X2gWRypvVP",
        "colab_type": "code",
        "colab": {}
      },
      "source": [
        "def remove_stop(sent): \n",
        "  stop_words = set(stopwords.words('english'))\n",
        "  stop_words.update(list(string.punctuation))\n",
        "\n",
        "  word_tokens = word_tokenize(sent) \n",
        "    \n",
        "  filtered_sent = [w for w in word_tokens if not w in stop_words] \n",
        "    \n",
        "  return \" \".join(filtered_sent)"
      ],
      "execution_count": 0,
      "outputs": []
    },
    {
      "cell_type": "code",
      "metadata": {
        "id": "_3IBaRTApyLZ",
        "colab_type": "code",
        "outputId": "a17a0359-4eb9-468e-969e-d729c6ab65b3",
        "colab": {
          "base_uri": "https://localhost:8080/",
          "height": 413
        }
      },
      "source": [
        "data['review'] = data['review'].apply(remove_stop)\n",
        "data"
      ],
      "execution_count": 314,
      "outputs": [
        {
          "output_type": "execute_result",
          "data": {
            "text/html": [
              "<div>\n",
              "<style scoped>\n",
              "    .dataframe tbody tr th:only-of-type {\n",
              "        vertical-align: middle;\n",
              "    }\n",
              "\n",
              "    .dataframe tbody tr th {\n",
              "        vertical-align: top;\n",
              "    }\n",
              "\n",
              "    .dataframe thead th {\n",
              "        text-align: right;\n",
              "    }\n",
              "</style>\n",
              "<table border=\"1\" class=\"dataframe\">\n",
              "  <thead>\n",
              "    <tr style=\"text-align: right;\">\n",
              "      <th></th>\n",
              "      <th>review</th>\n",
              "      <th>sentiment</th>\n",
              "    </tr>\n",
              "  </thead>\n",
              "  <tbody>\n",
              "    <tr>\n",
              "      <th>0</th>\n",
              "      <td>So way plug US unless I go converter</td>\n",
              "      <td>0</td>\n",
              "    </tr>\n",
              "    <tr>\n",
              "      <th>1</th>\n",
              "      <td>Good case Excellent value</td>\n",
              "      <td>1</td>\n",
              "    </tr>\n",
              "    <tr>\n",
              "      <th>2</th>\n",
              "      <td>Great jawbone</td>\n",
              "      <td>1</td>\n",
              "    </tr>\n",
              "    <tr>\n",
              "      <th>3</th>\n",
              "      <td>Tied charger conversations lasting 45 minutes....</td>\n",
              "      <td>0</td>\n",
              "    </tr>\n",
              "    <tr>\n",
              "      <th>4</th>\n",
              "      <td>The mic great</td>\n",
              "      <td>1</td>\n",
              "    </tr>\n",
              "    <tr>\n",
              "      <th>...</th>\n",
              "      <td>...</td>\n",
              "      <td>...</td>\n",
              "    </tr>\n",
              "    <tr>\n",
              "      <th>100075</th>\n",
              "      <td>This best ramen I 've 's kind family eating ye...</td>\n",
              "      <td>1</td>\n",
              "    </tr>\n",
              "    <tr>\n",
              "      <th>100076</th>\n",
              "      <td>This awesome flavor ... nutritional value litt...</td>\n",
              "      <td>1</td>\n",
              "    </tr>\n",
              "    <tr>\n",
              "      <th>100077</th>\n",
              "      <td>Absolutely great condition good price love ram...</td>\n",
              "      <td>1</td>\n",
              "    </tr>\n",
              "    <tr>\n",
              "      <th>100078</th>\n",
              "      <td>This Korean-style ramen one favorites As indiv...</td>\n",
              "      <td>1</td>\n",
              "    </tr>\n",
              "    <tr>\n",
              "      <th>100079</th>\n",
              "      <td>This best hangover cure buy. br br That said I...</td>\n",
              "      <td>1</td>\n",
              "    </tr>\n",
              "  </tbody>\n",
              "</table>\n",
              "<p>100000 rows × 2 columns</p>\n",
              "</div>"
            ],
            "text/plain": [
              "                                                   review  sentiment\n",
              "0                    So way plug US unless I go converter          0\n",
              "1                               Good case Excellent value          1\n",
              "2                                           Great jawbone          1\n",
              "3       Tied charger conversations lasting 45 minutes....          0\n",
              "4                                           The mic great          1\n",
              "...                                                   ...        ...\n",
              "100075  This best ramen I 've 's kind family eating ye...          1\n",
              "100076  This awesome flavor ... nutritional value litt...          1\n",
              "100077  Absolutely great condition good price love ram...          1\n",
              "100078  This Korean-style ramen one favorites As indiv...          1\n",
              "100079  This best hangover cure buy. br br That said I...          1\n",
              "\n",
              "[100000 rows x 2 columns]"
            ]
          },
          "metadata": {
            "tags": []
          },
          "execution_count": 314
        }
      ]
    },
    {
      "cell_type": "markdown",
      "metadata": {
        "id": "-RVyWc_xwd4o",
        "colab_type": "text"
      },
      "source": [
        "##bigrams (big data)"
      ]
    },
    {
      "cell_type": "code",
      "metadata": {
        "id": "swQasVJwSXPa",
        "colab_type": "code",
        "colab": {}
      },
      "source": [
        "sent = [row.split() for row in data['review']]"
      ],
      "execution_count": 0,
      "outputs": []
    },
    {
      "cell_type": "code",
      "metadata": {
        "id": "E3OckjqzTgYk",
        "colab_type": "code",
        "outputId": "444a0bee-48f0-4710-fafc-aad71c34d5d3",
        "colab": {
          "base_uri": "https://localhost:8080/",
          "height": 85
        }
      },
      "source": [
        "phrases = Phrases(sent, min_count=30, progress_per=100000)"
      ],
      "execution_count": 316,
      "outputs": [
        {
          "output_type": "stream",
          "text": [
            "INFO - 04:20:04: collecting all words and their counts\n",
            "INFO - 04:20:04: PROGRESS: at sentence #0, processed 0 words and 0 word types\n",
            "INFO - 04:20:12: collected 1702653 word types from a corpus of 4863939 words (unigram + bigrams) and 100000 sentences\n",
            "INFO - 04:20:12: using 1702653 counts as vocab in Phrases<0 vocab, min_count=30, threshold=10.0, max_vocab_size=40000000>\n"
          ],
          "name": "stderr"
        }
      ]
    },
    {
      "cell_type": "code",
      "metadata": {
        "id": "YDsZy140TiHe",
        "colab_type": "code",
        "outputId": "31e0f49d-c0fc-4205-e1d5-fdcfdb08c4fc",
        "colab": {
          "base_uri": "https://localhost:8080/",
          "height": 51
        }
      },
      "source": [
        "bigram = Phraser(phrases)\n",
        "sentences = bigram[sent]"
      ],
      "execution_count": 317,
      "outputs": [
        {
          "output_type": "stream",
          "text": [
            "INFO - 04:20:12: source_vocab length 1702653\n",
            "INFO - 04:20:28: Phraser built with 2849 phrasegrams\n"
          ],
          "name": "stderr"
        }
      ]
    },
    {
      "cell_type": "markdown",
      "metadata": {
        "id": "0o5NEi6SSS3L",
        "colab_type": "text"
      },
      "source": [
        "##Train (big data)"
      ]
    },
    {
      "cell_type": "code",
      "metadata": {
        "id": "RDNjpmjmUFdZ",
        "colab_type": "code",
        "outputId": "d6170852-efb9-41dc-f4c9-94fb2a763538",
        "colab": {
          "base_uri": "https://localhost:8080/",
          "height": 204
        }
      },
      "source": [
        "# 2-building vocabulary\n",
        "w2v_model.build_vocab(sentences, progress_per=100000)"
      ],
      "execution_count": 318,
      "outputs": [
        {
          "output_type": "stream",
          "text": [
            "INFO - 04:20:28: collecting all words and their counts\n",
            "INFO - 04:20:28: PROGRESS: at sentence #0, processed 0 words, keeping 0 word types\n",
            "INFO - 04:20:41: collected 109294 word types from a corpus of 4537682 raw words and 100000 sentences\n",
            "INFO - 04:20:41: Loading a fresh vocabulary\n",
            "INFO - 04:20:41: effective_min_count=10 retains 20180 unique words (18% of original 109294, drops 89114)\n",
            "INFO - 04:20:41: effective_min_count=10 leaves 4353565 word corpus (95% of original 4537682, drops 184117)\n",
            "INFO - 04:20:41: deleting the raw counts dictionary of 109294 items\n",
            "INFO - 04:20:41: sample=6e-05 downsamples 919 most-common words\n",
            "INFO - 04:20:41: downsampling leaves estimated 2380549 word corpus (54.7% of prior 4353565)\n",
            "INFO - 04:20:41: estimated required memory for 20180 words and 300 dimensions: 58522000 bytes\n",
            "INFO - 04:20:41: resetting layer weights\n"
          ],
          "name": "stderr"
        }
      ]
    },
    {
      "cell_type": "code",
      "metadata": {
        "id": "MngkhN2wUWDq",
        "colab_type": "code",
        "colab": {
          "base_uri": "https://localhost:8080/",
          "height": 458
        },
        "outputId": "60871c36-ee12-4601-8a85-1156cbd2e738"
      },
      "source": [
        "# 3-trainning the model\n",
        "w2v_model.train(sentences, total_examples=w2v_model.corpus_count, epochs=1, report_delay=1)"
      ],
      "execution_count": 319,
      "outputs": [
        {
          "output_type": "stream",
          "text": [
            "INFO - 04:20:45: training model with 3 workers on 20180 vocabulary and 300 features, using sg=0 hs=0 sample=6e-05 negative=20 window=10\n",
            "INFO - 04:20:46: EPOCH 1 - PROGRESS: at 7.13% examples, 110007 words/s, in_qsize 0, out_qsize 0\n",
            "INFO - 04:20:48: EPOCH 1 - PROGRESS: at 12.48% examples, 115747 words/s, in_qsize 0, out_qsize 1\n",
            "INFO - 04:20:49: EPOCH 1 - PROGRESS: at 17.55% examples, 119027 words/s, in_qsize 0, out_qsize 0\n",
            "INFO - 04:20:50: EPOCH 1 - PROGRESS: at 22.64% examples, 119737 words/s, in_qsize 0, out_qsize 0\n",
            "INFO - 04:20:51: EPOCH 1 - PROGRESS: at 27.58% examples, 120777 words/s, in_qsize 1, out_qsize 0\n",
            "INFO - 04:20:52: EPOCH 1 - PROGRESS: at 32.86% examples, 120589 words/s, in_qsize 0, out_qsize 0\n",
            "INFO - 04:20:53: EPOCH 1 - PROGRESS: at 38.47% examples, 121000 words/s, in_qsize 0, out_qsize 0\n",
            "INFO - 04:20:54: EPOCH 1 - PROGRESS: at 43.22% examples, 120278 words/s, in_qsize 0, out_qsize 0\n",
            "INFO - 04:20:55: EPOCH 1 - PROGRESS: at 47.94% examples, 120156 words/s, in_qsize 0, out_qsize 0\n",
            "INFO - 04:20:56: EPOCH 1 - PROGRESS: at 53.29% examples, 119919 words/s, in_qsize 0, out_qsize 0\n",
            "INFO - 04:20:57: EPOCH 1 - PROGRESS: at 58.37% examples, 120079 words/s, in_qsize 0, out_qsize 0\n",
            "INFO - 04:20:58: EPOCH 1 - PROGRESS: at 63.55% examples, 120254 words/s, in_qsize 0, out_qsize 0\n",
            "INFO - 04:20:59: EPOCH 1 - PROGRESS: at 68.20% examples, 119951 words/s, in_qsize 0, out_qsize 0\n",
            "INFO - 04:21:00: EPOCH 1 - PROGRESS: at 72.86% examples, 119882 words/s, in_qsize 0, out_qsize 0\n",
            "INFO - 04:21:01: EPOCH 1 - PROGRESS: at 77.65% examples, 119926 words/s, in_qsize 0, out_qsize 0\n",
            "INFO - 04:21:02: EPOCH 1 - PROGRESS: at 83.16% examples, 120391 words/s, in_qsize 0, out_qsize 0\n",
            "INFO - 04:21:03: EPOCH 1 - PROGRESS: at 88.52% examples, 120358 words/s, in_qsize 0, out_qsize 0\n",
            "INFO - 04:21:04: EPOCH 1 - PROGRESS: at 93.32% examples, 120412 words/s, in_qsize 0, out_qsize 0\n",
            "INFO - 04:21:05: EPOCH 1 - PROGRESS: at 98.28% examples, 120524 words/s, in_qsize 0, out_qsize 0\n",
            "INFO - 04:21:05: worker thread finished; awaiting finish of 2 more threads\n",
            "INFO - 04:21:05: worker thread finished; awaiting finish of 1 more threads\n",
            "INFO - 04:21:05: worker thread finished; awaiting finish of 0 more threads\n",
            "INFO - 04:21:05: EPOCH - 1 : training on 4537682 raw words (2380889 effective words) took 19.7s, 120660 effective words/s\n",
            "INFO - 04:21:05: training on a 4537682 raw words (2380889 effective words) took 19.7s, 120598 effective words/s\n"
          ],
          "name": "stderr"
        },
        {
          "output_type": "execute_result",
          "data": {
            "text/plain": [
              "(2380889, 4537682)"
            ]
          },
          "metadata": {
            "tags": []
          },
          "execution_count": 319
        }
      ]
    },
    {
      "cell_type": "code",
      "metadata": {
        "id": "Lk_ohMw9XAws",
        "colab_type": "code",
        "colab": {
          "base_uri": "https://localhost:8080/",
          "height": 258
        },
        "outputId": "4f0be9d2-f2c9-4700-c230-310d34b99514"
      },
      "source": [
        "w2v_model.wv.most_similar(positive=[\"amazing\"])"
      ],
      "execution_count": 320,
      "outputs": [
        {
          "output_type": "stream",
          "text": [
            "INFO - 04:21:05: precomputing L2-norms of word weight vectors\n",
            "/usr/local/lib/python3.6/dist-packages/gensim/matutils.py:737: FutureWarning: Conversion of the second argument of issubdtype from `int` to `np.signedinteger` is deprecated. In future, it will be treated as `np.int64 == np.dtype(int).type`.\n",
            "  if np.issubdtype(vec.dtype, np.int):\n"
          ],
          "name": "stderr"
        },
        {
          "output_type": "execute_result",
          "data": {
            "text/plain": [
              "[('awesome', 0.9999714493751526),\n",
              " ('fantastic', 0.9999706149101257),\n",
              " ('craving', 0.9999679327011108),\n",
              " ('ok', 0.999967098236084),\n",
              " ('super', 0.9999666213989258),\n",
              " ('These_chips', 0.9999665021896362),\n",
              " ('exactly', 0.999966025352478),\n",
              " ('mind', 0.9999654293060303),\n",
              " ('expect', 0.9999651908874512),\n",
              " ('addictive', 0.9999650716781616)]"
            ]
          },
          "metadata": {
            "tags": []
          },
          "execution_count": 320
        }
      ]
    },
    {
      "cell_type": "code",
      "metadata": {
        "id": "HIgI8qJGa8ft",
        "colab_type": "code",
        "colab": {
          "base_uri": "https://localhost:8080/",
          "height": 241
        },
        "outputId": "634b5052-5167-43b6-dbc4-a425c2639271"
      },
      "source": [
        "w2v_model.wv.most_similar(positive=[\"bad\"])"
      ],
      "execution_count": 321,
      "outputs": [
        {
          "output_type": "stream",
          "text": [
            "/usr/local/lib/python3.6/dist-packages/gensim/matutils.py:737: FutureWarning: Conversion of the second argument of issubdtype from `int` to `np.signedinteger` is deprecated. In future, it will be treated as `np.int64 == np.dtype(int).type`.\n",
            "  if np.issubdtype(vec.dtype, np.int):\n"
          ],
          "name": "stderr"
        },
        {
          "output_type": "execute_result",
          "data": {
            "text/plain": [
              "[('probably', 0.999948263168335),\n",
              " (\"'d\", 0.999947190284729),\n",
              " ('felt', 0.9999460577964783),\n",
              " (\"'m_sure\", 0.9999415278434753),\n",
              " ('horrible', 0.9999403357505798),\n",
              " ('thing', 0.9999395608901978),\n",
              " ('sure', 0.9999391436576843),\n",
              " ('anything', 0.99993896484375),\n",
              " ('terrible', 0.9999382495880127),\n",
              " ('However', 0.9999377727508545)]"
            ]
          },
          "metadata": {
            "tags": []
          },
          "execution_count": 321
        }
      ]
    },
    {
      "cell_type": "code",
      "metadata": {
        "id": "H1PPEK08cGEs",
        "colab_type": "code",
        "colab": {
          "base_uri": "https://localhost:8080/",
          "height": 241
        },
        "outputId": "06d20b62-5b9a-4ebf-b6f5-cb00df810460"
      },
      "source": [
        "w2v_model.wv.most_similar(positive=[\"good\"])"
      ],
      "execution_count": 322,
      "outputs": [
        {
          "output_type": "stream",
          "text": [
            "/usr/local/lib/python3.6/dist-packages/gensim/matutils.py:737: FutureWarning: Conversion of the second argument of issubdtype from `int` to `np.signedinteger` is deprecated. In future, it will be treated as `np.int64 == np.dtype(int).type`.\n",
            "  if np.issubdtype(vec.dtype, np.int):\n"
          ],
          "name": "stderr"
        },
        {
          "output_type": "execute_result",
          "data": {
            "text/plain": [
              "[('nice', 0.9997374415397644),\n",
              " ('really', 0.9997140169143677),\n",
              " ('This', 0.9996923804283142),\n",
              " ('The', 0.9996499419212341),\n",
              " ('spicy', 0.9996374845504761),\n",
              " ('great', 0.9996285438537598),\n",
              " ('tastes', 0.9996030330657959),\n",
              " ('like', 0.9995982050895691),\n",
              " ('overpowering', 0.9995871782302856),\n",
              " ('bit', 0.9995326995849609)]"
            ]
          },
          "metadata": {
            "tags": []
          },
          "execution_count": 322
        }
      ]
    },
    {
      "cell_type": "code",
      "metadata": {
        "id": "_QGn9fYUdYbR",
        "colab_type": "code",
        "colab": {}
      },
      "source": [
        "#calculating average word2vec\n",
        "def get_avg_vec(words):\n",
        "  # remove out-of-vocabulary words\n",
        "  words = [word for word in words if word in w2v_model.wv.vocab]\n",
        "  if len(words) >= 1:\n",
        "      return np.mean(w2v_model[words], axis=0)\n",
        "  else:\n",
        "      return []"
      ],
      "execution_count": 0,
      "outputs": []
    },
    {
      "cell_type": "code",
      "metadata": {
        "id": "Ly_p_mOU0-jl",
        "colab_type": "code",
        "colab": {
          "base_uri": "https://localhost:8080/",
          "height": 467
        },
        "outputId": "0b60bd31-3887-45eb-b6ce-c1beb8d70dd8"
      },
      "source": [
        "data['vector'] = data['review'].apply(get_avg_vec)\n",
        "data"
      ],
      "execution_count": 324,
      "outputs": [
        {
          "output_type": "stream",
          "text": [
            "/usr/local/lib/python3.6/dist-packages/ipykernel_launcher.py:5: DeprecationWarning: Call to deprecated `__getitem__` (Method will be removed in 4.0.0, use self.wv.__getitem__() instead).\n",
            "  \"\"\"\n"
          ],
          "name": "stderr"
        },
        {
          "output_type": "execute_result",
          "data": {
            "text/html": [
              "<div>\n",
              "<style scoped>\n",
              "    .dataframe tbody tr th:only-of-type {\n",
              "        vertical-align: middle;\n",
              "    }\n",
              "\n",
              "    .dataframe tbody tr th {\n",
              "        vertical-align: top;\n",
              "    }\n",
              "\n",
              "    .dataframe thead th {\n",
              "        text-align: right;\n",
              "    }\n",
              "</style>\n",
              "<table border=\"1\" class=\"dataframe\">\n",
              "  <thead>\n",
              "    <tr style=\"text-align: right;\">\n",
              "      <th></th>\n",
              "      <th>review</th>\n",
              "      <th>sentiment</th>\n",
              "      <th>vector</th>\n",
              "    </tr>\n",
              "  </thead>\n",
              "  <tbody>\n",
              "    <tr>\n",
              "      <th>0</th>\n",
              "      <td>So way plug US unless I go converter</td>\n",
              "      <td>0</td>\n",
              "      <td>[0.05085963, 0.07579343, 0.12554887, -0.072429...</td>\n",
              "    </tr>\n",
              "    <tr>\n",
              "      <th>1</th>\n",
              "      <td>Good case Excellent value</td>\n",
              "      <td>1</td>\n",
              "      <td>[0.044323068, 0.06713143, 0.1093247, -0.064477...</td>\n",
              "    </tr>\n",
              "    <tr>\n",
              "      <th>2</th>\n",
              "      <td>Great jawbone</td>\n",
              "      <td>1</td>\n",
              "      <td>[0.041104414, 0.0616751, 0.10173492, -0.059571...</td>\n",
              "    </tr>\n",
              "    <tr>\n",
              "      <th>3</th>\n",
              "      <td>Tied charger conversations lasting 45 minutes....</td>\n",
              "      <td>0</td>\n",
              "      <td>[0.049753953, 0.07952506, 0.12642197, -0.07591...</td>\n",
              "    </tr>\n",
              "    <tr>\n",
              "      <th>4</th>\n",
              "      <td>The mic great</td>\n",
              "      <td>1</td>\n",
              "      <td>[0.039640427, 0.06369145, 0.10138138, -0.06016...</td>\n",
              "    </tr>\n",
              "    <tr>\n",
              "      <th>...</th>\n",
              "      <td>...</td>\n",
              "      <td>...</td>\n",
              "      <td>...</td>\n",
              "    </tr>\n",
              "    <tr>\n",
              "      <th>100075</th>\n",
              "      <td>This best ramen I 've 's kind family eating ye...</td>\n",
              "      <td>1</td>\n",
              "      <td>[0.046944622, 0.07018237, 0.11594651, -0.06695...</td>\n",
              "    </tr>\n",
              "    <tr>\n",
              "      <th>100076</th>\n",
              "      <td>This awesome flavor ... nutritional value litt...</td>\n",
              "      <td>1</td>\n",
              "      <td>[0.042086057, 0.06522633, 0.10583529, -0.06227...</td>\n",
              "    </tr>\n",
              "    <tr>\n",
              "      <th>100077</th>\n",
              "      <td>Absolutely great condition good price love ram...</td>\n",
              "      <td>1</td>\n",
              "      <td>[0.04145142, 0.06715417, 0.10613022, -0.064399...</td>\n",
              "    </tr>\n",
              "    <tr>\n",
              "      <th>100078</th>\n",
              "      <td>This Korean-style ramen one favorites As indiv...</td>\n",
              "      <td>1</td>\n",
              "      <td>[0.046171054, 0.07202161, 0.116127826, -0.0689...</td>\n",
              "    </tr>\n",
              "    <tr>\n",
              "      <th>100079</th>\n",
              "      <td>This best hangover cure buy. br br That said I...</td>\n",
              "      <td>1</td>\n",
              "      <td>[0.043884143, 0.065879606, 0.108559184, -0.062...</td>\n",
              "    </tr>\n",
              "  </tbody>\n",
              "</table>\n",
              "<p>100000 rows × 3 columns</p>\n",
              "</div>"
            ],
            "text/plain": [
              "                                                   review  ...                                             vector\n",
              "0                    So way plug US unless I go converter  ...  [0.05085963, 0.07579343, 0.12554887, -0.072429...\n",
              "1                               Good case Excellent value  ...  [0.044323068, 0.06713143, 0.1093247, -0.064477...\n",
              "2                                           Great jawbone  ...  [0.041104414, 0.0616751, 0.10173492, -0.059571...\n",
              "3       Tied charger conversations lasting 45 minutes....  ...  [0.049753953, 0.07952506, 0.12642197, -0.07591...\n",
              "4                                           The mic great  ...  [0.039640427, 0.06369145, 0.10138138, -0.06016...\n",
              "...                                                   ...  ...                                                ...\n",
              "100075  This best ramen I 've 's kind family eating ye...  ...  [0.046944622, 0.07018237, 0.11594651, -0.06695...\n",
              "100076  This awesome flavor ... nutritional value litt...  ...  [0.042086057, 0.06522633, 0.10583529, -0.06227...\n",
              "100077  Absolutely great condition good price love ram...  ...  [0.04145142, 0.06715417, 0.10613022, -0.064399...\n",
              "100078  This Korean-style ramen one favorites As indiv...  ...  [0.046171054, 0.07202161, 0.116127826, -0.0689...\n",
              "100079  This best hangover cure buy. br br That said I...  ...  [0.043884143, 0.065879606, 0.108559184, -0.062...\n",
              "\n",
              "[100000 rows x 3 columns]"
            ]
          },
          "metadata": {
            "tags": []
          },
          "execution_count": 324
        }
      ]
    },
    {
      "cell_type": "code",
      "metadata": {
        "id": "B5YvME4zt2bm",
        "colab_type": "code",
        "colab": {
          "base_uri": "https://localhost:8080/",
          "height": 413
        },
        "outputId": "f4276ca6-b42e-4cf0-8c9f-61f465ea4667"
      },
      "source": [
        "data['sentiment'] = data['sentiment'].astype(int)\n",
        "data = data[data['vector'].map(len) == 300]\n",
        "\n",
        "data"
      ],
      "execution_count": 325,
      "outputs": [
        {
          "output_type": "execute_result",
          "data": {
            "text/html": [
              "<div>\n",
              "<style scoped>\n",
              "    .dataframe tbody tr th:only-of-type {\n",
              "        vertical-align: middle;\n",
              "    }\n",
              "\n",
              "    .dataframe tbody tr th {\n",
              "        vertical-align: top;\n",
              "    }\n",
              "\n",
              "    .dataframe thead th {\n",
              "        text-align: right;\n",
              "    }\n",
              "</style>\n",
              "<table border=\"1\" class=\"dataframe\">\n",
              "  <thead>\n",
              "    <tr style=\"text-align: right;\">\n",
              "      <th></th>\n",
              "      <th>review</th>\n",
              "      <th>sentiment</th>\n",
              "      <th>vector</th>\n",
              "    </tr>\n",
              "  </thead>\n",
              "  <tbody>\n",
              "    <tr>\n",
              "      <th>0</th>\n",
              "      <td>So way plug US unless I go converter</td>\n",
              "      <td>0</td>\n",
              "      <td>[0.05085963, 0.07579343, 0.12554887, -0.072429...</td>\n",
              "    </tr>\n",
              "    <tr>\n",
              "      <th>1</th>\n",
              "      <td>Good case Excellent value</td>\n",
              "      <td>1</td>\n",
              "      <td>[0.044323068, 0.06713143, 0.1093247, -0.064477...</td>\n",
              "    </tr>\n",
              "    <tr>\n",
              "      <th>2</th>\n",
              "      <td>Great jawbone</td>\n",
              "      <td>1</td>\n",
              "      <td>[0.041104414, 0.0616751, 0.10173492, -0.059571...</td>\n",
              "    </tr>\n",
              "    <tr>\n",
              "      <th>3</th>\n",
              "      <td>Tied charger conversations lasting 45 minutes....</td>\n",
              "      <td>0</td>\n",
              "      <td>[0.049753953, 0.07952506, 0.12642197, -0.07591...</td>\n",
              "    </tr>\n",
              "    <tr>\n",
              "      <th>4</th>\n",
              "      <td>The mic great</td>\n",
              "      <td>1</td>\n",
              "      <td>[0.039640427, 0.06369145, 0.10138138, -0.06016...</td>\n",
              "    </tr>\n",
              "    <tr>\n",
              "      <th>...</th>\n",
              "      <td>...</td>\n",
              "      <td>...</td>\n",
              "      <td>...</td>\n",
              "    </tr>\n",
              "    <tr>\n",
              "      <th>100075</th>\n",
              "      <td>This best ramen I 've 's kind family eating ye...</td>\n",
              "      <td>1</td>\n",
              "      <td>[0.046944622, 0.07018237, 0.11594651, -0.06695...</td>\n",
              "    </tr>\n",
              "    <tr>\n",
              "      <th>100076</th>\n",
              "      <td>This awesome flavor ... nutritional value litt...</td>\n",
              "      <td>1</td>\n",
              "      <td>[0.042086057, 0.06522633, 0.10583529, -0.06227...</td>\n",
              "    </tr>\n",
              "    <tr>\n",
              "      <th>100077</th>\n",
              "      <td>Absolutely great condition good price love ram...</td>\n",
              "      <td>1</td>\n",
              "      <td>[0.04145142, 0.06715417, 0.10613022, -0.064399...</td>\n",
              "    </tr>\n",
              "    <tr>\n",
              "      <th>100078</th>\n",
              "      <td>This Korean-style ramen one favorites As indiv...</td>\n",
              "      <td>1</td>\n",
              "      <td>[0.046171054, 0.07202161, 0.116127826, -0.0689...</td>\n",
              "    </tr>\n",
              "    <tr>\n",
              "      <th>100079</th>\n",
              "      <td>This best hangover cure buy. br br That said I...</td>\n",
              "      <td>1</td>\n",
              "      <td>[0.043884143, 0.065879606, 0.108559184, -0.062...</td>\n",
              "    </tr>\n",
              "  </tbody>\n",
              "</table>\n",
              "<p>100000 rows × 3 columns</p>\n",
              "</div>"
            ],
            "text/plain": [
              "                                                   review  ...                                             vector\n",
              "0                    So way plug US unless I go converter  ...  [0.05085963, 0.07579343, 0.12554887, -0.072429...\n",
              "1                               Good case Excellent value  ...  [0.044323068, 0.06713143, 0.1093247, -0.064477...\n",
              "2                                           Great jawbone  ...  [0.041104414, 0.0616751, 0.10173492, -0.059571...\n",
              "3       Tied charger conversations lasting 45 minutes....  ...  [0.049753953, 0.07952506, 0.12642197, -0.07591...\n",
              "4                                           The mic great  ...  [0.039640427, 0.06369145, 0.10138138, -0.06016...\n",
              "...                                                   ...  ...                                                ...\n",
              "100075  This best ramen I 've 's kind family eating ye...  ...  [0.046944622, 0.07018237, 0.11594651, -0.06695...\n",
              "100076  This awesome flavor ... nutritional value litt...  ...  [0.042086057, 0.06522633, 0.10583529, -0.06227...\n",
              "100077  Absolutely great condition good price love ram...  ...  [0.04145142, 0.06715417, 0.10613022, -0.064399...\n",
              "100078  This Korean-style ramen one favorites As indiv...  ...  [0.046171054, 0.07202161, 0.116127826, -0.0689...\n",
              "100079  This best hangover cure buy. br br That said I...  ...  [0.043884143, 0.065879606, 0.108559184, -0.062...\n",
              "\n",
              "[100000 rows x 3 columns]"
            ]
          },
          "metadata": {
            "tags": []
          },
          "execution_count": 325
        }
      ]
    },
    {
      "cell_type": "markdown",
      "metadata": {
        "id": "4l9K8n_IaMRS",
        "colab_type": "text"
      },
      "source": [
        "#KNN"
      ]
    },
    {
      "cell_type": "code",
      "metadata": {
        "id": "03ZUZQ4dJlhi",
        "colab_type": "code",
        "colab": {}
      },
      "source": [
        "from sklearn import datasets, linear_model\n",
        "from sklearn.model_selection import cross_val_score\n",
        "\n",
        "def find_optimal_k(X_train,y_train, myList):\n",
        "   \n",
        "    #creating odd list of K for KNN\n",
        "    #myList = list(range(0,40))\n",
        "    neighbors = list(filter(lambda x: x % 2 != 0, myList))\n",
        "    # empty list that will hold cv scores\n",
        "    cv_scores = []\n",
        "\n",
        "    # perform 10-fold cross validation\n",
        "    for k in neighbors:\n",
        "        knn = KNeighborsClassifier(n_neighbors=k)\n",
        "        scores = cross_val_score(knn, X_train, y_train, cv=10, scoring='accuracy')\n",
        "        cv_scores.append(scores.mean())\n",
        "\n",
        "    # changing to misclassification error\n",
        "    MSE = [1 - x for x in cv_scores]\n",
        "\n",
        "    # determining best k\n",
        "    optimal_k = neighbors[MSE.index(min(MSE))]\n",
        "    print('\\nThe optimal number of neighbors is %d.' % optimal_k)\n",
        "\n",
        "\n",
        "    plt.figure(figsize=(10,6))\n",
        "    plt.plot(list(filter(lambda x: x % 2 != 0, myList)),MSE,color='blue', linestyle='dashed', marker='o',\n",
        "             markerfacecolor='red', markersize=10)\n",
        "    plt.title('Error Rate vs. K Value')\n",
        "    plt.xlabel('K')\n",
        "    plt.ylabel('Error Rate')\n",
        "\n",
        "    print(\"the misclassification error for each k value is : \", np.round(MSE,3))\n",
        "    \n",
        "    return optimal_k"
      ],
      "execution_count": 0,
      "outputs": []
    },
    {
      "cell_type": "code",
      "metadata": {
        "id": "ULfNBZZS4Vul",
        "colab_type": "code",
        "colab": {
          "base_uri": "https://localhost:8080/",
          "height": 413
        },
        "outputId": "11b37305-231e-418b-b081-cd562c74cdee"
      },
      "source": [
        "from sklearn.model_selection import train_test_split\n",
        "\n",
        "train, test = train_test_split(data, test_size=0.3)\n",
        "\n",
        "train"
      ],
      "execution_count": 327,
      "outputs": [
        {
          "output_type": "execute_result",
          "data": {
            "text/html": [
              "<div>\n",
              "<style scoped>\n",
              "    .dataframe tbody tr th:only-of-type {\n",
              "        vertical-align: middle;\n",
              "    }\n",
              "\n",
              "    .dataframe tbody tr th {\n",
              "        vertical-align: top;\n",
              "    }\n",
              "\n",
              "    .dataframe thead th {\n",
              "        text-align: right;\n",
              "    }\n",
              "</style>\n",
              "<table border=\"1\" class=\"dataframe\">\n",
              "  <thead>\n",
              "    <tr style=\"text-align: right;\">\n",
              "      <th></th>\n",
              "      <th>review</th>\n",
              "      <th>sentiment</th>\n",
              "      <th>vector</th>\n",
              "    </tr>\n",
              "  </thead>\n",
              "  <tbody>\n",
              "    <tr>\n",
              "      <th>14336</th>\n",
              "      <td>There 's much taste good texture n't shatter u...</td>\n",
              "      <td>1</td>\n",
              "      <td>[0.04463731, 0.06852746, 0.11149402, -0.065551...</td>\n",
              "    </tr>\n",
              "    <tr>\n",
              "      <th>32796</th>\n",
              "      <td>The title says We pleased flavor Grade B price...</td>\n",
              "      <td>1</td>\n",
              "      <td>[0.04087058, 0.05979434, 0.099775136, -0.05685...</td>\n",
              "    </tr>\n",
              "    <tr>\n",
              "      <th>15536</th>\n",
              "      <td>I feeding greyhounds treats years My hounds li...</td>\n",
              "      <td>1</td>\n",
              "      <td>[0.045792837, 0.06888309, 0.11337594, -0.06574...</td>\n",
              "    </tr>\n",
              "    <tr>\n",
              "      <th>56544</th>\n",
              "      <td>This best deal ever The delivery fast chips de...</td>\n",
              "      <td>1</td>\n",
              "      <td>[0.03645266, 0.055996444, 0.09081919, -0.05330...</td>\n",
              "    </tr>\n",
              "    <tr>\n",
              "      <th>36161</th>\n",
              "      <td>My friend recommands cookies said really tasty...</td>\n",
              "      <td>0</td>\n",
              "      <td>[0.04886211, 0.07087249, 0.11890247, -0.067962...</td>\n",
              "    </tr>\n",
              "    <tr>\n",
              "      <th>...</th>\n",
              "      <td>...</td>\n",
              "      <td>...</td>\n",
              "      <td>...</td>\n",
              "    </tr>\n",
              "    <tr>\n",
              "      <th>23424</th>\n",
              "      <td>I picked pure nostalgia Shake 'N Bake one `` e...</td>\n",
              "      <td>1</td>\n",
              "      <td>[0.044011477, 0.06760382, 0.11017217, -0.06490...</td>\n",
              "    </tr>\n",
              "    <tr>\n",
              "      <th>10908</th>\n",
              "      <td>The product received schedule perfect conditio...</td>\n",
              "      <td>1</td>\n",
              "      <td>[0.045759182, 0.069208555, 0.1136148, -0.06614...</td>\n",
              "    </tr>\n",
              "    <tr>\n",
              "      <th>87350</th>\n",
              "      <td>I let product I purchased Switch href= '' http...</td>\n",
              "      <td>0</td>\n",
              "      <td>[0.04456759, 0.068285204, 0.11146419, -0.06518...</td>\n",
              "    </tr>\n",
              "    <tr>\n",
              "      <th>7170</th>\n",
              "      <td>I hate bugs I adore Bug Bites chocolate square...</td>\n",
              "      <td>1</td>\n",
              "      <td>[0.04257768, 0.064828314, 0.10613213, -0.06185...</td>\n",
              "    </tr>\n",
              "    <tr>\n",
              "      <th>76904</th>\n",
              "      <td>My daughter studying Native Americans school I...</td>\n",
              "      <td>1</td>\n",
              "      <td>[0.04503495, 0.067969844, 0.1117556, -0.065067...</td>\n",
              "    </tr>\n",
              "  </tbody>\n",
              "</table>\n",
              "<p>70000 rows × 3 columns</p>\n",
              "</div>"
            ],
            "text/plain": [
              "                                                  review  ...                                             vector\n",
              "14336  There 's much taste good texture n't shatter u...  ...  [0.04463731, 0.06852746, 0.11149402, -0.065551...\n",
              "32796  The title says We pleased flavor Grade B price...  ...  [0.04087058, 0.05979434, 0.099775136, -0.05685...\n",
              "15536  I feeding greyhounds treats years My hounds li...  ...  [0.045792837, 0.06888309, 0.11337594, -0.06574...\n",
              "56544  This best deal ever The delivery fast chips de...  ...  [0.03645266, 0.055996444, 0.09081919, -0.05330...\n",
              "36161  My friend recommands cookies said really tasty...  ...  [0.04886211, 0.07087249, 0.11890247, -0.067962...\n",
              "...                                                  ...  ...                                                ...\n",
              "23424  I picked pure nostalgia Shake 'N Bake one `` e...  ...  [0.044011477, 0.06760382, 0.11017217, -0.06490...\n",
              "10908  The product received schedule perfect conditio...  ...  [0.045759182, 0.069208555, 0.1136148, -0.06614...\n",
              "87350  I let product I purchased Switch href= '' http...  ...  [0.04456759, 0.068285204, 0.11146419, -0.06518...\n",
              "7170   I hate bugs I adore Bug Bites chocolate square...  ...  [0.04257768, 0.064828314, 0.10613213, -0.06185...\n",
              "76904  My daughter studying Native Americans school I...  ...  [0.04503495, 0.067969844, 0.1117556, -0.065067...\n",
              "\n",
              "[70000 rows x 3 columns]"
            ]
          },
          "metadata": {
            "tags": []
          },
          "execution_count": 327
        }
      ]
    },
    {
      "cell_type": "code",
      "metadata": {
        "id": "2vGNLkQS4jOV",
        "colab_type": "code",
        "colab": {}
      },
      "source": [
        "Xtr1 = np.array(train['vector'].tolist())\n",
        "ytr1 = np.array(train['sentiment'])\n",
        "\n",
        "Xts1 = np.array(test['vector'].tolist())\n",
        "yts1 = np.array(test['sentiment'])"
      ],
      "execution_count": 0,
      "outputs": []
    },
    {
      "cell_type": "code",
      "metadata": {
        "id": "gTUyYHdLKhAG",
        "colab_type": "code",
        "colab": {
          "base_uri": "https://localhost:8080/",
          "height": 472
        },
        "outputId": "4b5c5667-16de-4415-cef5-cc2ec66bf0d5"
      },
      "source": [
        "from sklearn.neighbors import KNeighborsClassifier\n",
        "myList = list(range(0,30))\n",
        "\n",
        "optimal_k = find_optimal_k(Xtr1 ,ytr1,myList)"
      ],
      "execution_count": 329,
      "outputs": [
        {
          "output_type": "stream",
          "text": [
            "\n",
            "The optimal number of neighbors is 27.\n",
            "the misclassification error for each k value is :  [0.23  0.203 0.184 0.175 0.171 0.167 0.166 0.164 0.164 0.163 0.163 0.163\n",
            " 0.163 0.162 0.163]\n"
          ],
          "name": "stdout"
        },
        {
          "output_type": "display_data",
          "data": {
            "image/png": "[encoded data removed]",
            "text/plain": [
              "<Figure size 720x432 with 1 Axes>"
            ]
          },
          "metadata": {
            "tags": [],
            "needs_background": "light"
          }
        }
      ]
    },
    {
      "cell_type": "code",
      "metadata": {
        "id": "s6r-H6c9UX_V",
        "colab_type": "code",
        "colab": {}
      },
      "source": [
        "\n",
        "knn = KNeighborsClassifier(n_neighbors=optimal_k)"
      ],
      "execution_count": 0,
      "outputs": []
    },
    {
      "cell_type": "code",
      "metadata": {
        "id": "L-KE5z0fUmL6",
        "colab_type": "code",
        "colab": {
          "base_uri": "https://localhost:8080/",
          "height": 68
        },
        "outputId": "a3687ec1-4994-4188-a2d9-52f2a2732435"
      },
      "source": [
        "knn.fit(Xtr1, ytr1)"
      ],
      "execution_count": 331,
      "outputs": [
        {
          "output_type": "execute_result",
          "data": {
            "text/plain": [
              "KNeighborsClassifier(algorithm='auto', leaf_size=30, metric='minkowski',\n",
              "                     metric_params=None, n_jobs=None, n_neighbors=27, p=2,\n",
              "                     weights='uniform')"
            ]
          },
          "metadata": {
            "tags": []
          },
          "execution_count": 331
        }
      ]
    },
    {
      "cell_type": "code",
      "metadata": {
        "id": "MDHb2GAwalKN",
        "colab_type": "code",
        "colab": {}
      },
      "source": [
        "pred = knn.predict(Xts1)"
      ],
      "execution_count": 0,
      "outputs": []
    },
    {
      "cell_type": "code",
      "metadata": {
        "id": "hFHBTATua3z8",
        "colab_type": "code",
        "colab": {
          "base_uri": "https://localhost:8080/",
          "height": 68
        },
        "outputId": "a3dfb006-f854-4fc9-9d2c-30fb76aaa990"
      },
      "source": [
        "acc = np.mean(pred == yts1)\n",
        "print('Accuaracy = {0:f}'.format(acc))\n",
        "\n",
        "recall = np.sum((pred == 1)*(yts1 == 1))/np.sum(yts1 == 1)\n",
        "precision = np.sum((pred == 1)*(yts1 == 1))/np.sum(pred == 1)\n",
        "print(\"Recall: \" + str(recall))\n",
        "print(\"Precision: \" + str(precision))"
      ],
      "execution_count": 333,
      "outputs": [
        {
          "output_type": "stream",
          "text": [
            "Accuaracy = 0.836800\n",
            "Recall: 0.9988050665179639\n",
            "Precision: 0.83748580589139\n"
          ],
          "name": "stdout"
        }
      ]
    },
    {
      "cell_type": "code",
      "metadata": {
        "id": "ZBaNltthdNX6",
        "colab_type": "code",
        "colab": {
          "base_uri": "https://localhost:8080/",
          "height": 518
        },
        "outputId": "a7ca83d1-a102-494e-d18a-2381f50fcab6"
      },
      "source": [
        "!pip install scikit-plot\n",
        "\n",
        "import scikitplot.metrics as skplt\n",
        "skplt.plot_confusion_matrix(pred, yts1)"
      ],
      "execution_count": 334,
      "outputs": [
        {
          "output_type": "stream",
          "text": [
            "Requirement already satisfied: scikit-plot in /usr/local/lib/python3.6/dist-packages (0.3.7)\n",
            "Requirement already satisfied: scikit-learn>=0.18 in /usr/local/lib/python3.6/dist-packages (from scikit-plot) (0.22.2.post1)\n",
            "Requirement already satisfied: matplotlib>=1.4.0 in /usr/local/lib/python3.6/dist-packages (from scikit-plot) (3.2.1)\n",
            "Requirement already satisfied: scipy>=0.9 in /usr/local/lib/python3.6/dist-packages (from scikit-plot) (1.4.1)\n",
            "Requirement already satisfied: joblib>=0.10 in /usr/local/lib/python3.6/dist-packages (from scikit-plot) (0.14.1)\n",
            "Requirement already satisfied: numpy>=1.11.0 in /usr/local/lib/python3.6/dist-packages (from scikit-learn>=0.18->scikit-plot) (1.18.4)\n",
            "Requirement already satisfied: kiwisolver>=1.0.1 in /usr/local/lib/python3.6/dist-packages (from matplotlib>=1.4.0->scikit-plot) (1.2.0)\n",
            "Requirement already satisfied: python-dateutil>=2.1 in /usr/local/lib/python3.6/dist-packages (from matplotlib>=1.4.0->scikit-plot) (2.8.1)\n",
            "Requirement already satisfied: pyparsing!=2.0.4,!=2.1.2,!=2.1.6,>=2.0.1 in /usr/local/lib/python3.6/dist-packages (from matplotlib>=1.4.0->scikit-plot) (2.4.7)\n",
            "Requirement already satisfied: cycler>=0.10 in /usr/local/lib/python3.6/dist-packages (from matplotlib>=1.4.0->scikit-plot) (0.10.0)\n",
            "Requirement already satisfied: six>=1.5 in /usr/local/lib/python3.6/dist-packages (from python-dateutil>=2.1->matplotlib>=1.4.0->scikit-plot) (1.12.0)\n"
          ],
          "name": "stdout"
        },
        {
          "output_type": "execute_result",
          "data": {
            "text/plain": [
              "<matplotlib.axes._subplots.AxesSubplot at 0x7f485cb24908>"
            ]
          },
          "metadata": {
            "tags": []
          },
          "execution_count": 334
        },
        {
          "output_type": "display_data",
          "data": {
            "image/png": "[encoded data removed]",
            "text/plain": [
              "<Figure size 432x288 with 2 Axes>"
            ]
          },
          "metadata": {
            "tags": [],
            "needs_background": "light"
          }
        }
      ]
    },
    {
      "cell_type": "markdown",
      "metadata": {
        "id": "PIAdA33Ta-xS",
        "colab_type": "text"
      },
      "source": [
        "#SVM"
      ]
    },
    {
      "cell_type": "code",
      "metadata": {
        "id": "IHlfDSri4wa4",
        "colab_type": "code",
        "colab": {}
      },
      "source": [
        "from sklearn import svm \n",
        "\n",
        "svcrbf = svm.SVC(probability=False, kernel=\"rbf\",verbose=10) #C=2.8, gamma=.0073"
      ],
      "execution_count": 0,
      "outputs": []
    },
    {
      "cell_type": "code",
      "metadata": {
        "id": "pMKWhuOD42Cl",
        "colab_type": "code",
        "colab": {
          "base_uri": "https://localhost:8080/",
          "height": 85
        },
        "outputId": "676198b4-923b-4bab-a62c-7bde68542ec0"
      },
      "source": [
        "svcrbf.fit(Xtr1,ytr1)"
      ],
      "execution_count": 336,
      "outputs": [
        {
          "output_type": "stream",
          "text": [
            "[LibSVM]"
          ],
          "name": "stdout"
        },
        {
          "output_type": "execute_result",
          "data": {
            "text/plain": [
              "SVC(C=1.0, break_ties=False, cache_size=200, class_weight=None, coef0=0.0,\n",
              "    decision_function_shape='ovr', degree=3, gamma='scale', kernel='rbf',\n",
              "    max_iter=-1, probability=False, random_state=None, shrinking=True,\n",
              "    tol=0.001, verbose=10)"
            ]
          },
          "metadata": {
            "tags": []
          },
          "execution_count": 336
        }
      ]
    },
    {
      "cell_type": "code",
      "metadata": {
        "id": "gfzSH3bK42MZ",
        "colab_type": "code",
        "colab": {}
      },
      "source": [
        "yhat_ts = svcrbf.predict(Xts1)"
      ],
      "execution_count": 0,
      "outputs": []
    },
    {
      "cell_type": "code",
      "metadata": {
        "id": "B-tRS7o65CeZ",
        "colab_type": "code",
        "colab": {
          "base_uri": "https://localhost:8080/",
          "height": 68
        },
        "outputId": "f0af1023-1151-4047-98d8-fd6d1e328ba2"
      },
      "source": [
        "acc = np.mean(yhat_ts == yts1)\n",
        "print('Accuaracy = {0:f}'.format(acc))\n",
        "\n",
        "recall = np.sum((yhat_ts == 1)*(yts1 == 1))/np.sum(yts1 == 1)\n",
        "precision = np.sum((yhat_ts == 1)*(yts1 == 1))/np.sum(yhat_ts == 1)\n",
        "print(\"Recall: \" + str(recall))\n",
        "print(\"Precision: \" + str(precision))"
      ],
      "execution_count": 338,
      "outputs": [
        {
          "output_type": "stream",
          "text": [
            "Accuaracy = 0.836867\n",
            "Recall: 1.0\n",
            "Precision: 0.8368666666666666\n"
          ],
          "name": "stdout"
        }
      ]
    },
    {
      "cell_type": "markdown",
      "metadata": {
        "id": "SdV30088bH2C",
        "colab_type": "text"
      },
      "source": [
        "#Logistic Regression"
      ]
    },
    {
      "cell_type": "code",
      "metadata": {
        "id": "_75Dy-Z2bsaV",
        "colab_type": "code",
        "colab": {
          "base_uri": "https://localhost:8080/",
          "height": 204
        },
        "outputId": "9a1e629d-c1b8-47ca-d15b-751043da3934"
      },
      "source": [
        "X = np.array(data['vector'].tolist())\n",
        "y = np.array(data['sentiment'])\n",
        "\n",
        "logreg = linear_model.LogisticRegression(penalty='none',solver='lbfgs')\n",
        "logreg.fit(X, y)\n",
        "yhat = logreg.predict(X)\n",
        "\n",
        "acc = np.mean(yhat == y)\n",
        "print(\"Accuracy: \" + str(acc))\n",
        "\n",
        "recall = np.sum((yhat == 1)*(y == 1))/np.sum(y == 1)\n",
        "precision = np.sum((yhat == 1)*(y == 1))/np.sum(yhat == 1)\n",
        "print(\"Recall: \" + str(recall))\n",
        "print(\"Precision: \" + str(precision))"
      ],
      "execution_count": 339,
      "outputs": [
        {
          "output_type": "stream",
          "text": [
            "Accuracy: 0.83752\n",
            "Recall: 0.9996417397119587\n",
            "Precision: 0.8376998979244641\n"
          ],
          "name": "stdout"
        },
        {
          "output_type": "stream",
          "text": [
            "/usr/local/lib/python3.6/dist-packages/sklearn/linear_model/_logistic.py:940: ConvergenceWarning: lbfgs failed to converge (status=1):\n",
            "STOP: TOTAL NO. of ITERATIONS REACHED LIMIT.\n",
            "\n",
            "Increase the number of iterations (max_iter) or scale the data as shown in:\n",
            "    https://scikit-learn.org/stable/modules/preprocessing.html\n",
            "Please also refer to the documentation for alternative solver options:\n",
            "    https://scikit-learn.org/stable/modules/linear_model.html#logistic-regression\n",
            "  extra_warning_msg=_LOGISTIC_SOLVER_CONVERGENCE_MSG)\n"
          ],
          "name": "stderr"
        }
      ]
    },
    {
      "cell_type": "markdown",
      "metadata": {
        "id": "3vcqmNFpn0nz",
        "colab_type": "text"
      },
      "source": [
        "#Naive Bayes"
      ]
    },
    {
      "cell_type": "code",
      "metadata": {
        "id": "8A1CqO4en33G",
        "colab_type": "code",
        "colab": {
          "base_uri": "https://localhost:8080/",
          "height": 34
        },
        "outputId": "5916e80b-0aec-4e5a-d370-a48cd34cb7e4"
      },
      "source": [
        "# train a Gaussian Naive Bayes classifier on the training set\n",
        "from sklearn.naive_bayes import GaussianNB\n",
        "\n",
        "# instantiate the model\n",
        "gnb = GaussianNB()\n",
        "\n",
        "# fit the model\n",
        "gnb.fit(Xtr1, ytr1)"
      ],
      "execution_count": 340,
      "outputs": [
        {
          "output_type": "execute_result",
          "data": {
            "text/plain": [
              "GaussianNB(priors=None, var_smoothing=1e-09)"
            ]
          },
          "metadata": {
            "tags": []
          },
          "execution_count": 340
        }
      ]
    },
    {
      "cell_type": "code",
      "metadata": {
        "id": "Us-KeJw7n8DU",
        "colab_type": "code",
        "colab": {}
      },
      "source": [
        "y_pred = gnb.predict(Xts1)"
      ],
      "execution_count": 0,
      "outputs": []
    },
    {
      "cell_type": "code",
      "metadata": {
        "id": "au2lvoOWoIUl",
        "colab_type": "code",
        "colab": {
          "base_uri": "https://localhost:8080/",
          "height": 68
        },
        "outputId": "c7a46246-52de-4323-a280-70dcb34c6434"
      },
      "source": [
        "acc = np.mean(y_pred == yts1)\n",
        "print('Accuaracy = {0:f}'.format(acc))\n",
        "\n",
        "recall = np.sum((y_pred == 1)*(yts1 == 1))/np.sum(yts1 == 1)\n",
        "precision = np.sum((y_pred == 1)*(yts1 == 1))/np.sum(y_pred == 1)\n",
        "print(\"Recall: \" + str(recall))\n",
        "print(\"Precision: \" + str(precision))"
      ],
      "execution_count": 342,
      "outputs": [
        {
          "output_type": "stream",
          "text": [
            "Accuaracy = 0.692867\n",
            "Recall: 0.7681032422528479\n",
            "Precision: 0.8504145351913918\n"
          ],
          "name": "stdout"
        }
      ]
    },
    {
      "cell_type": "code",
      "metadata": {
        "id": "igGhGxACqtwG",
        "colab_type": "code",
        "colab": {}
      },
      "source": [
        ""
      ],
      "execution_count": 0,
      "outputs": []
    },
    {
      "cell_type": "markdown",
      "metadata": {
        "id": "FAfl1cQVWRji",
        "colab_type": "text"
      },
      "source": [
        "#Try pre-trained model"
      ]
    },
    {
      "cell_type": "markdown",
      "metadata": {
        "id": "-ZnA9XDHHJNe",
        "colab_type": "text"
      },
      "source": [
        "Used using another .ipynb file"
      ]
    }
  ]
}